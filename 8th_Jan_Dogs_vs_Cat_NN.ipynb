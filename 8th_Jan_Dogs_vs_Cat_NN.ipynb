{
  "cells": [
    {
      "cell_type": "markdown",
      "metadata": {
        "id": "view-in-github",
        "colab_type": "text"
      },
      "source": [
        "<a href=\"https://colab.research.google.com/github/viji-lab/aboutme/blob/main/8th_Jan_Dogs_vs_Cat_NN.ipynb\" target=\"_parent\"><img src=\"https://colab.research.google.com/assets/colab-badge.svg\" alt=\"Open In Colab\"/></a>"
      ]
    },
    {
      "cell_type": "code",
      "execution_count": null,
      "metadata": {
        "id": "DmytTDYW0lzH"
      },
      "outputs": [],
      "source": [
        "import numpy as np\n",
        "import pandas as pd \n",
        "import matplotlib.pyplot as plt\n",
        "import tensorflow as tf \n",
        "import cv2 \n",
        "from google.colab.patches import cv2_imshow\n",
        "import os"
      ]
    },
    {
      "cell_type": "code",
      "execution_count": null,
      "metadata": {
        "id": "rScdseHn00Pp"
      },
      "outputs": [],
      "source": [
        "import kaggle"
      ]
    },
    {
      "cell_type": "code",
      "execution_count": null,
      "metadata": {
        "id": "7OdL7h7i05Mn"
      },
      "outputs": [],
      "source": [
        "! mv kaggle.json /root/.kaggle"
      ]
    },
    {
      "cell_type": "code",
      "execution_count": null,
      "metadata": {
        "colab": {
          "base_uri": "https://localhost:8080/"
        },
        "id": "QGhcCwy309wp",
        "outputId": "0035e8d8-121e-49fe-d538-c85baf93127d"
      },
      "outputs": [
        {
          "name": "stdout",
          "output_type": "stream",
          "text": [
            "Warning: Your Kaggle API key is readable by other users on this system! To fix this, you can run 'chmod 600 /root/.kaggle/kaggle.json'\n",
            "Downloading dogs-vs-cats.zip to /content\n",
            " 99% 807M/812M [00:03<00:00, 245MB/s]\n",
            "100% 812M/812M [00:03<00:00, 218MB/s]\n"
          ]
        }
      ],
      "source": [
        "! kaggle competitions download -c dogs-vs-cats"
      ]
    },
    {
      "cell_type": "code",
      "execution_count": null,
      "metadata": {
        "id": "AxKVgJT21lvF"
      },
      "outputs": [],
      "source": [
        "# unzip, rm, cd, ls are LINUX commands & are not Python functions! \n",
        "# We prepend a ! before Linux commands in jupyter "
      ]
    },
    {
      "cell_type": "code",
      "execution_count": null,
      "metadata": {
        "id": "pa_e8Vh81AOx"
      },
      "outputs": [],
      "source": [
        "! unzip -q dogs-vs-cats.zip"
      ]
    },
    {
      "cell_type": "code",
      "execution_count": null,
      "metadata": {
        "id": "tW_1oaiN1JaF"
      },
      "outputs": [],
      "source": [
        "! rm sampleSubmission.csv\n",
        "! rm test1.zip"
      ]
    },
    {
      "cell_type": "code",
      "execution_count": null,
      "metadata": {
        "id": "eGbG32OH1ZF8"
      },
      "outputs": [],
      "source": [
        "! unzip -q train.zip"
      ]
    },
    {
      "cell_type": "code",
      "execution_count": null,
      "metadata": {
        "colab": {
          "base_uri": "https://localhost:8080/"
        },
        "id": "zV7bKa4b1buB",
        "outputId": "ccb0e21c-3109-43f2-9db5-b87befa26eb6"
      },
      "outputs": [
        {
          "data": {
            "text/plain": [
              "25000"
            ]
          },
          "execution_count": 8,
          "metadata": {},
          "output_type": "execute_result"
        }
      ],
      "source": [
        "import os\n",
        "len(os.listdir(\"train\"))"
      ]
    },
    {
      "cell_type": "code",
      "execution_count": null,
      "metadata": {
        "colab": {
          "base_uri": "https://localhost:8080/"
        },
        "id": "BXTx_kQf13CU",
        "outputId": "dbe69798-0930-40a7-bd2a-41228a9ce059"
      },
      "outputs": [
        {
          "data": {
            "text/plain": [
              "['cat.7493.jpg',\n",
              " 'dog.8309.jpg',\n",
              " 'dog.2144.jpg',\n",
              " 'cat.12333.jpg',\n",
              " 'dog.2457.jpg',\n",
              " 'dog.9818.jpg',\n",
              " 'dog.11983.jpg',\n",
              " 'dog.7353.jpg',\n",
              " 'dog.2016.jpg',\n",
              " 'dog.1120.jpg']"
            ]
          },
          "execution_count": 9,
          "metadata": {},
          "output_type": "execute_result"
        }
      ],
      "source": [
        "os.listdir(\"train\")[:10]"
      ]
    },
    {
      "cell_type": "code",
      "execution_count": null,
      "metadata": {
        "colab": {
          "base_uri": "https://localhost:8080/"
        },
        "id": "VfLAnDGu2TXB",
        "outputId": "30e6670f-4c20-4ce5-a2af-0f30fe58b071"
      },
      "outputs": [
        {
          "name": "stdout",
          "output_type": "stream",
          "text": [
            "12500\n"
          ]
        }
      ],
      "source": [
        "! ls train | grep dog | wc -l"
      ]
    },
    {
      "cell_type": "code",
      "execution_count": null,
      "metadata": {
        "colab": {
          "base_uri": "https://localhost:8080/"
        },
        "id": "7W-5N2ZQ2eUo",
        "outputId": "0481b513-4133-4e99-c4d1-3bf7d5590dd5"
      },
      "outputs": [
        {
          "name": "stdout",
          "output_type": "stream",
          "text": [
            "12500\n"
          ]
        }
      ],
      "source": [
        "! ls train | grep cat | wc -l"
      ]
    },
    {
      "cell_type": "code",
      "execution_count": null,
      "metadata": {
        "id": "n4Q-ZL2n2BkU"
      },
      "outputs": [],
      "source": [
        "imageList = []\n",
        "for imageName in os.listdir(\"train\"):\n",
        "  imageList.append(imageName.split(\".\")[0])"
      ]
    },
    {
      "cell_type": "code",
      "execution_count": null,
      "metadata": {
        "colab": {
          "base_uri": "https://localhost:8080/"
        },
        "id": "HL3UgPxa2Nnr",
        "outputId": "c0ca4c26-53dd-4623-84c2-293bd4bba29a"
      },
      "outputs": [
        {
          "data": {
            "text/plain": [
              "25000"
            ]
          },
          "execution_count": 19,
          "metadata": {},
          "output_type": "execute_result"
        }
      ],
      "source": [
        "len(imageList)"
      ]
    },
    {
      "cell_type": "code",
      "execution_count": null,
      "metadata": {
        "colab": {
          "base_uri": "https://localhost:8080/"
        },
        "id": "RZQ3RcpU2hFr",
        "outputId": "31902a1b-2310-4c1d-84fa-b61ed3ac57cc"
      },
      "outputs": [
        {
          "data": {
            "text/plain": [
              "12500"
            ]
          },
          "execution_count": 20,
          "metadata": {},
          "output_type": "execute_result"
        }
      ],
      "source": [
        "len([i for i in imageList if i == \"dog\"])"
      ]
    },
    {
      "cell_type": "code",
      "execution_count": null,
      "metadata": {
        "colab": {
          "base_uri": "https://localhost:8080/"
        },
        "id": "tcEKQLr72uC7",
        "outputId": "742ca1be-536c-4cf7-9177-72116167e6ac"
      },
      "outputs": [
        {
          "data": {
            "text/plain": [
              "12500"
            ]
          },
          "execution_count": 21,
          "metadata": {},
          "output_type": "execute_result"
        }
      ],
      "source": [
        "len([i for i in imageList if i == \"cat\"])"
      ]
    },
    {
      "cell_type": "code",
      "execution_count": null,
      "metadata": {
        "id": "pyzVnQeQ2wjn"
      },
      "outputs": [],
      "source": [
        "# Q) All the images have different shapes, our NN model accepts only same shape images... \n",
        "# How do we come to a common shape for images ?? "
      ]
    },
    {
      "cell_type": "code",
      "execution_count": null,
      "metadata": {
        "id": "Sricr0kl5Pyd"
      },
      "outputs": [],
      "source": [
        "# (25000, 150, 150, 3) "
      ]
    },
    {
      "cell_type": "code",
      "execution_count": null,
      "metadata": {
        "id": "u6ru955W5iGv"
      },
      "outputs": [],
      "source": [
        "# MNIST & Fashion-MNIST \n",
        "# Images are loaded into an array ? "
      ]
    },
    {
      "cell_type": "code",
      "execution_count": null,
      "metadata": {
        "id": "WXbbvJ405rMh"
      },
      "outputs": [],
      "source": [
        "images = [] # Image List \n",
        "labels = [] # Label List\n",
        "\n",
        "for imageName in os.listdir(\"train\"):\n",
        "  image = cv2.imread(\"train/\" + imageName)      # Read the image\n",
        "  image = cv2.cvtColor(image, cv2.COLOR_BGR2RGB)# Converted the image from BGR to RGB\n",
        "  image = cv2.resize(image, (150 , 150))        # Resized the image to 150x150\n",
        "  images.append(image)\n",
        "\n",
        "  if \"dog\" in imageName:                        # If image name contains dog\n",
        "    labels.append(\"dog\")\n",
        "  elif \"cat\" in imageName:                      # If image name contains cat\n",
        "    labels.append(\"cat\")"
      ]
    },
    {
      "cell_type": "code",
      "execution_count": null,
      "metadata": {
        "colab": {
          "base_uri": "https://localhost:8080/"
        },
        "id": "V14wTaNB597q",
        "outputId": "dafaef44-dc42-4ffd-8ceb-a7b7f5fa3912"
      },
      "outputs": [
        {
          "data": {
            "text/plain": [
              "25000"
            ]
          },
          "execution_count": 30,
          "metadata": {},
          "output_type": "execute_result"
        }
      ],
      "source": [
        "len(images)"
      ]
    },
    {
      "cell_type": "code",
      "execution_count": null,
      "metadata": {
        "colab": {
          "base_uri": "https://localhost:8080/"
        },
        "id": "jJlyUxFx6sVf",
        "outputId": "4448fda0-404b-4ce9-cec7-302e3732dd93"
      },
      "outputs": [
        {
          "data": {
            "text/plain": [
              "25000"
            ]
          },
          "execution_count": 31,
          "metadata": {},
          "output_type": "execute_result"
        }
      ],
      "source": [
        "len(labels)"
      ]
    },
    {
      "cell_type": "code",
      "execution_count": null,
      "metadata": {
        "id": "fohTfUlV6wiD"
      },
      "outputs": [],
      "source": [
        "imageArr = np.array(images)"
      ]
    },
    {
      "cell_type": "code",
      "execution_count": null,
      "metadata": {
        "colab": {
          "base_uri": "https://localhost:8080/"
        },
        "id": "LSEIMzRp61Bs",
        "outputId": "aafeb013-260e-4fc1-9a0d-0ce1ab4b9d3b"
      },
      "outputs": [
        {
          "data": {
            "text/plain": [
              "(25000, 150, 150, 3)"
            ]
          },
          "execution_count": 33,
          "metadata": {},
          "output_type": "execute_result"
        }
      ],
      "source": [
        "imageArr.shape        # Num of images x W x H x Channel"
      ]
    },
    {
      "cell_type": "code",
      "execution_count": null,
      "metadata": {
        "id": "taNM9MqG8P7F"
      },
      "outputs": [],
      "source": [
        "labelArr = np.array(labels)"
      ]
    },
    {
      "cell_type": "code",
      "execution_count": null,
      "metadata": {
        "colab": {
          "base_uri": "https://localhost:8080/"
        },
        "id": "ELyUQm1Y8U5j",
        "outputId": "a41c9b6e-693e-4bc9-fdef-9ea4a8e65f16"
      },
      "outputs": [
        {
          "data": {
            "text/plain": [
              "(25000,)"
            ]
          },
          "execution_count": 35,
          "metadata": {},
          "output_type": "execute_result"
        }
      ],
      "source": [
        "labelArr.shape"
      ]
    },
    {
      "cell_type": "code",
      "execution_count": null,
      "metadata": {
        "id": "ntFodSr38WmJ"
      },
      "outputs": [],
      "source": [
        "# Normalization of images\n",
        "imageArr = imageArr / 255.0"
      ]
    },
    {
      "cell_type": "code",
      "execution_count": null,
      "metadata": {
        "colab": {
          "base_uri": "https://localhost:8080/"
        },
        "id": "tr-7HxgQ83i4",
        "outputId": "1514efae-e4e9-4ca5-8942-323168a34e3c"
      },
      "outputs": [
        {
          "data": {
            "text/plain": [
              "1687500000"
            ]
          },
          "execution_count": 1,
          "metadata": {},
          "output_type": "execute_result"
        }
      ],
      "source": [
        "25000 * 150 * 150 * 3 "
      ]
    },
    {
      "cell_type": "code",
      "execution_count": null,
      "metadata": {
        "id": "IA_cArIH9NSP"
      },
      "outputs": [],
      "source": [
        "# 1.6B"
      ]
    },
    {
      "cell_type": "code",
      "execution_count": null,
      "metadata": {
        "id": "dU2ZhcaXCZUL"
      },
      "outputs": [],
      "source": [
        "# Image Data Generator \n",
        "# https://www.tensorflow.org/api_docs/python/tf/keras/preprocessing/image/ImageDataGenerator"
      ]
    },
    {
      "cell_type": "code",
      "execution_count": null,
      "metadata": {
        "id": "mwESgneMCcC1"
      },
      "outputs": [],
      "source": [
        "idg = tf.keras.preprocessing.image.ImageDataGenerator()"
      ]
    },
    {
      "cell_type": "code",
      "execution_count": null,
      "metadata": {
        "id": "bo8k9tyBCob6"
      },
      "outputs": [],
      "source": [
        "# idg.flow_from_dataframe       # Read data through a DataFrame\n",
        "# idg.flow_from_directory       # Read the images directory from Folders"
      ]
    },
    {
      "cell_type": "code",
      "execution_count": null,
      "metadata": {
        "id": "byrXn3QFDIAa"
      },
      "outputs": [],
      "source": [
        "?idg.flow_from_directory"
      ]
    },
    {
      "cell_type": "code",
      "execution_count": null,
      "metadata": {
        "id": "dNjootPeDNpB"
      },
      "outputs": [],
      "source": [
        "#   mainFolder    # directory\n",
        "#     | - cat1    # sub directory\n",
        "#     | - cat2"
      ]
    },
    {
      "cell_type": "code",
      "execution_count": null,
      "metadata": {
        "id": "8fKrFhzuDyXy"
      },
      "outputs": [],
      "source": [
        "#   trainimages \n",
        "#   | - cat\n",
        "#   | - dog"
      ]
    },
    {
      "cell_type": "code",
      "execution_count": null,
      "metadata": {
        "id": "_TZCFWcdESGe"
      },
      "outputs": [],
      "source": [
        "os.mkdir(\"trainimages\")\n",
        "os.mkdir(\"trainimages/cat\")\n",
        "os.mkdir(\"trainimages/dog\")"
      ]
    },
    {
      "cell_type": "code",
      "execution_count": null,
      "metadata": {
        "id": "7N5x-LVyEse2"
      },
      "outputs": [],
      "source": [
        "import shutil\n",
        "from shutil import copy"
      ]
    },
    {
      "cell_type": "code",
      "execution_count": null,
      "metadata": {
        "id": "mvcPuhQHFrMF"
      },
      "outputs": [],
      "source": [
        "# copy(source, destination)"
      ]
    },
    {
      "cell_type": "code",
      "execution_count": null,
      "metadata": {
        "id": "qTMBsnB0EZQB"
      },
      "outputs": [],
      "source": [
        "source = \"train/\"\n",
        "destCat = \"trainimages/cat/\"\n",
        "destDog = \"trainimages/dog/\"\n",
        "for image in os.listdir(\"train\"):\n",
        "  if \"dog\" in image:\n",
        "    copy(source + image, destDog + image)\n",
        "  else:\n",
        "    copy(source + image, destCat + image)"
      ]
    },
    {
      "cell_type": "code",
      "execution_count": null,
      "metadata": {
        "colab": {
          "base_uri": "https://localhost:8080/"
        },
        "id": "RMiV0_-6E_Uk",
        "outputId": "b27e240d-c2c7-47d1-cff7-d004812a42ba"
      },
      "outputs": [
        {
          "name": "stdout",
          "output_type": "stream",
          "text": [
            "Found 25000 images belonging to 2 classes.\n"
          ]
        }
      ],
      "source": [
        "idg = tf.keras.preprocessing.image.ImageDataGenerator(rescale=1/255.0)\n",
        "trainGen = idg.flow_from_directory(\"trainimages\", \n",
        "                                   target_size=(150, 150), \n",
        "                                   batch_size=32)"
      ]
    },
    {
      "cell_type": "code",
      "execution_count": null,
      "metadata": {
        "id": "bIW2DC7HPtxh"
      },
      "outputs": [],
      "source": [
        "# del model"
      ]
    },
    {
      "cell_type": "code",
      "execution_count": null,
      "metadata": {
        "id": "W6ywVuwkGkFn"
      },
      "outputs": [],
      "source": [
        "model = tf.keras.models.Sequential()\n",
        "model.add(tf.keras.layers.Input((150, 150, 3)))\n",
        "model.add(tf.keras.layers.Flatten())\n",
        "model.add(tf.keras.layers.Dense(120, activation = tf.keras.activations.relu))\n",
        "model.add(tf.keras.layers.Dense(2, activation = tf.keras.activations.softmax))"
      ]
    },
    {
      "cell_type": "code",
      "execution_count": null,
      "metadata": {
        "colab": {
          "base_uri": "https://localhost:8080/"
        },
        "id": "C51wX-2YLBrr",
        "outputId": "cfbd3a20-e779-44cb-c1eb-f90474f45fff"
      },
      "outputs": [
        {
          "name": "stdout",
          "output_type": "stream",
          "text": [
            "Model: \"sequential_1\"\n",
            "_________________________________________________________________\n",
            " Layer (type)                Output Shape              Param #   \n",
            "=================================================================\n",
            " flatten_1 (Flatten)         (None, 67500)             0         \n",
            "                                                                 \n",
            " dense_2 (Dense)             (None, 120)               8100120   \n",
            "                                                                 \n",
            " dense_3 (Dense)             (None, 2)                 242       \n",
            "                                                                 \n",
            "=================================================================\n",
            "Total params: 8,100,362\n",
            "Trainable params: 8,100,362\n",
            "Non-trainable params: 0\n",
            "_________________________________________________________________\n"
          ]
        }
      ],
      "source": [
        "model.summary()"
      ]
    },
    {
      "cell_type": "code",
      "execution_count": null,
      "metadata": {
        "id": "MOBej_aPLC19"
      },
      "outputs": [],
      "source": [
        "model.compile(optimizer=tf.keras.optimizers.SGD(), \n",
        "              loss = tf.keras.losses.categorical_crossentropy, \n",
        "              metrics = [\"acc\"])"
      ]
    },
    {
      "cell_type": "code",
      "execution_count": null,
      "metadata": {
        "colab": {
          "background_save": true,
          "base_uri": "https://localhost:8080/"
        },
        "id": "0KbPXpKROxMq",
        "outputId": "5df302b9-7dde-4771-b739-61cf7e6e029c"
      },
      "outputs": [
        {
          "name": "stdout",
          "output_type": "stream",
          "text": [
            "Epoch 1/10\n",
            "782/782 [==============================] - 113s 143ms/step - loss: 0.6937 - acc: 0.5718\n",
            "Epoch 2/10\n",
            "782/782 [==============================] - 119s 152ms/step - loss: 0.6580 - acc: 0.6092\n",
            "Epoch 3/10\n",
            "782/782 [==============================] - 114s 145ms/step - loss: 0.6490 - acc: 0.6204\n",
            "Epoch 4/10\n",
            "782/782 [==============================] - 111s 141ms/step - loss: 0.6386 - acc: 0.6332\n",
            "Epoch 5/10\n",
            "782/782 [==============================] - 111s 142ms/step - loss: 0.6340 - acc: 0.6361\n",
            "Epoch 6/10\n",
            "782/782 [==============================] - 108s 139ms/step - loss: 0.6282 - acc: 0.6422\n",
            "Epoch 7/10\n",
            "782/782 [==============================] - 109s 140ms/step - loss: 0.6221 - acc: 0.6492\n",
            "Epoch 8/10\n",
            "782/782 [==============================] - 107s 137ms/step - loss: 0.6170 - acc: 0.6545\n",
            "Epoch 9/10\n",
            "782/782 [==============================] - 108s 138ms/step - loss: 0.6115 - acc: 0.6604\n",
            "Epoch 10/10\n",
            "782/782 [==============================] - 108s 138ms/step - loss: 0.6074 - acc: 0.6646\n"
          ]
        },
        {
          "data": {
            "text/plain": [
              "<keras.callbacks.History at 0x7feea6a89dc0>"
            ]
          },
          "execution_count": 39,
          "metadata": {},
          "output_type": "execute_result"
        }
      ],
      "source": [
        "model.fit(trainGen, batch_size=32, epochs=10)"
      ]
    },
    {
      "cell_type": "code",
      "execution_count": null,
      "metadata": {
        "id": "ZC0Dru1PO88i"
      },
      "outputs": [],
      "source": []
    }
  ],
  "metadata": {
    "colab": {
      "provenance": [],
      "include_colab_link": true
    },
    "kernelspec": {
      "display_name": "Python 3",
      "name": "python3"
    },
    "language_info": {
      "name": "python"
    }
  },
  "nbformat": 4,
  "nbformat_minor": 0
}